{
 "cells": [
  {
   "cell_type": "code",
   "execution_count": 1,
   "id": "c7e5b4a0",
   "metadata": {},
   "outputs": [],
   "source": [
    "import numpy as np\n",
    "import pandas as pd\n",
    "from sklearn.metrics import classification_report, confusion_matrix\n",
    "from sklearn.model_selection import train_test_split\n",
    "from sklearn.naive_bayes import GaussianNB\n",
    "from sklearn.metrics import precision_score\n",
    "from sklearn.multioutput import MultiOutputClassifier\n",
    "# example of making a single class prediction\n",
    "from sklearn.linear_model import LogisticRegression\n",
    "from sklearn.neural_network import MLPClassifier"
   ]
  },
  {
   "cell_type": "code",
   "execution_count": 2,
   "id": "47012308",
   "metadata": {},
   "outputs": [],
   "source": [
    "#ast data\n",
    "ad = pd.read_csv('repo_python_relate.csv')"
   ]
  },
  {
   "cell_type": "markdown",
   "id": "a248f1cc",
   "metadata": {},
   "source": [
    "## Functional and Dynamic"
   ]
  },
  {
   "cell_type": "code",
   "execution_count": 3,
   "id": "5890a28e",
   "metadata": {},
   "outputs": [],
   "source": [
    "trainxor = ad[['Func']]\n",
    "trainyor = ad[['Relatedness']]\n",
    "X_train, X_test, y_train, y_test = train_test_split(\n",
    "    trainxor, trainyor, test_size=0.1, random_state=0)"
   ]
  },
  {
   "cell_type": "markdown",
   "id": "153458b6",
   "metadata": {},
   "source": [
    "### Bayesian"
   ]
  },
  {
   "cell_type": "code",
   "execution_count": 4,
   "id": "7bed62ee",
   "metadata": {},
   "outputs": [
    {
     "name": "stdout",
     "output_type": "stream",
     "text": [
      "[0.62669966 0.62681658 0.62786891 0.62903816 0.63254592 0.63605369\n",
      " 0.63839219]\n"
     ]
    }
   ],
   "source": [
    "from sklearn import linear_model\n",
    "\n",
    "reg = linear_model.BayesianRidge()\n",
    "dn, fc = 0, 3\n",
    "model = reg.fit(X_train, y_train.values.ravel())\n",
    "# xnew = [[0,1],[1,0],[0,10],[0,20],[0,50],[0,80],[0,100]]\n",
    "xnew = [[0],[1],[10],[20],[50],[80],[100]]\n",
    "y_pred = model.predict(xnew)\n",
    "print(y_pred)"
   ]
  },
  {
   "cell_type": "markdown",
   "id": "87366669",
   "metadata": {},
   "source": [
    "### Gaussian "
   ]
  },
  {
   "cell_type": "code",
   "execution_count": 5,
   "id": "a1246f91",
   "metadata": {},
   "outputs": [
    {
     "name": "stdout",
     "output_type": "stream",
     "text": [
      "              precision    recall  f1-score   support\n",
      "\n",
      "           0       0.50      0.97      0.66       112\n",
      "           1       0.94      0.32      0.48       159\n",
      "\n",
      "    accuracy                           0.59       271\n",
      "   macro avg       0.72      0.65      0.57       271\n",
      "weighted avg       0.76      0.59      0.55       271\n",
      "\n",
      "[[109   3]\n",
      " [108  51]]\n",
      "Precision score: 0.9444444444444444\n",
      "X=[0], Predicted=[0.001, 0.999]\n",
      "X=[1], Predicted=[0.939, 0.061]\n",
      "X=[10], Predicted=[0.941, 0.059]\n",
      "X=[20], Predicted=[0.939, 0.061]\n",
      "X=[50], Predicted=[0.939, 0.061]\n",
      "X=[80], Predicted=[0.941, 0.059]\n",
      "X=[100], Predicted=[0.941, 0.059]\n"
     ]
    }
   ],
   "source": [
    "gnb = GaussianNB()\n",
    "dn, fc = 0, 3\n",
    "model = gnb.fit(X_train, y_train.values.ravel())\n",
    "y_pred = model.predict(X_test)\n",
    "print(classification_report(y_test,y_pred))\n",
    "print(confusion_matrix(y_test, y_pred))\n",
    "print(\"Precision score: {}\".format(precision_score(y_test,y_pred)))\n",
    "xnew = [[0,1],[1,0],[0,10],[0,20],[0,50],[0,80],[0,100]]\n",
    "xnew = [[0],[1],[10],[20],[50],[80],[100]]\n",
    "xprobs = model.predict_proba(X_test)\n",
    "for i in range(len(xnew)):\n",
    "\tprint(\"X=%s, Predicted=%s\" % (xnew[i], [round(xprobs[i][0],3),round(xprobs[i][1],3)]))"
   ]
  },
  {
   "cell_type": "markdown",
   "id": "2e8d421d",
   "metadata": {},
   "source": [
    "### Logistic Regression"
   ]
  },
  {
   "cell_type": "code",
   "execution_count": 6,
   "id": "6535c03d",
   "metadata": {
    "scrolled": true
   },
   "outputs": [
    {
     "name": "stdout",
     "output_type": "stream",
     "text": [
      "      Relatedness\n",
      "1767            0\n",
      "971             1\n",
      "927             1\n",
      "2269            0\n",
      "1096            0\n",
      "...           ...\n",
      "1731            0\n",
      "763             0\n",
      "835             1\n",
      "1653            1\n",
      "2607            1\n",
      "\n",
      "[2433 rows x 1 columns]\n",
      "              precision    recall  f1-score   support\n",
      "\n",
      "           0       0.64      0.74      0.69       112\n",
      "           1       0.79      0.70      0.75       159\n",
      "\n",
      "    accuracy                           0.72       271\n",
      "   macro avg       0.72      0.72      0.72       271\n",
      "weighted avg       0.73      0.72      0.72       271\n",
      "\n",
      "[[ 83  29]\n",
      " [ 47 112]]\n",
      "Precision score: 0.7943262411347518\n",
      "X=[0], Predicted=[0.011, 0.989]\n",
      "X=[1], Predicted=[0.556, 0.444]\n",
      "X=[10], Predicted=[0.476, 0.524]\n",
      "X=[20], Predicted=[0.556, 0.444]\n",
      "X=[50], Predicted=[0.549, 0.451]\n",
      "X=[80], Predicted=[0.52, 0.48]\n",
      "X=[100], Predicted=[0.469, 0.531]\n"
     ]
    }
   ],
   "source": [
    "logreg = LogisticRegression()\n",
    "dn, fc = 0, 3\n",
    "print(y_train)\n",
    "model = logreg.fit(X_train, y_train.values.ravel())\n",
    "y_pred = model.predict(X_test)\n",
    "print(classification_report(y_test,y_pred))\n",
    "print(confusion_matrix(y_test, y_pred))\n",
    "print(\"Precision score: {}\".format(precision_score(y_test,y_pred)))\n",
    "xnew = [[0,1],[1,0],[0,10],[0,20],[0,50],[0,80],[0,100]]\n",
    "xnew = [[0],[1],[10],[20],[50],[80],[100]]\n",
    "xprobs = model.predict_proba(X_test)\n",
    "for i in range(len(xnew)):\n",
    "\tprint(\"X=%s, Predicted=%s\" % (xnew[i], [round(xprobs[i][0],3),round(xprobs[i][1],3)]))\n",
    "    \n",
    "    \n",
    "trainxor = ad[['Func']]\n",
    "trainyor = ad[['Relatedness']]\n",
    "X_train, X_test, y_train, y_test = train_test_split(\n",
    "    trainxor, trainyor, test_size=0.1, random_state=0)"
   ]
  },
  {
   "cell_type": "markdown",
   "id": "09cba6c4",
   "metadata": {},
   "source": [
    "### Neural Network"
   ]
  },
  {
   "cell_type": "code",
   "execution_count": 13,
   "id": "9b39ba48",
   "metadata": {},
   "outputs": [
    {
     "name": "stdout",
     "output_type": "stream",
     "text": [
      "              precision    recall  f1-score   support\n",
      "\n",
      "           0       0.65      0.63      0.64       112\n",
      "           1       0.75      0.76      0.75       159\n",
      "\n",
      "    accuracy                           0.71       271\n",
      "   macro avg       0.70      0.70      0.70       271\n",
      "weighted avg       0.71      0.71      0.71       271\n",
      "\n",
      "[[ 71  41]\n",
      " [ 38 121]]\n",
      "Precision score: 0.7469135802469136\n",
      "X=[0], Predicted=[0.059, 0.941]\n",
      "X=[1], Predicted=[0.605, 0.395]\n",
      "X=[10], Predicted=[0.381, 0.619]\n",
      "X=[20], Predicted=[0.605, 0.395]\n",
      "X=[50], Predicted=[0.624, 0.376]\n",
      "X=[80], Predicted=[0.479, 0.521]\n",
      "X=[100], Predicted=[0.372, 0.628]\n"
     ]
    }
   ],
   "source": [
    "mlpc=MLPClassifier(hidden_layer_sizes=(12,12,12),max_iter=500)\n",
    "model = mlpc.fit(X_train, y_train.values.ravel())\n",
    "y_pred = model.predict(X_test)\n",
    "print(classification_report(y_test,y_pred))\n",
    "print(confusion_matrix(y_test, y_pred))\n",
    "print(\"Precision score: {}\".format(precision_score(y_test,y_pred)))\n",
    "xnew = [[0,1],[1,0],[0,10],[0,20],[0,50],[0,80],[0,100]]\n",
    "xnew = [[0],[1],[10],[20],[50],[80],[100]]\n",
    "xprobs = model.predict_proba(X_test)\n",
    "for i in range(len(xnew)):\n",
    "\tprint(\"X=%s, Predicted=%s\" % (xnew[i], [round(xprobs[i][0],3),round(xprobs[i][1],3)]))"
   ]
  },
  {
   "cell_type": "code",
   "execution_count": null,
   "id": "fb93d086",
   "metadata": {},
   "outputs": [],
   "source": []
  },
  {
   "cell_type": "code",
   "execution_count": null,
   "id": "3fffc6a2",
   "metadata": {},
   "outputs": [],
   "source": []
  }
 ],
 "metadata": {
  "kernelspec": {
   "display_name": "Python 3",
   "language": "python",
   "name": "python3"
  },
  "language_info": {
   "codemirror_mode": {
    "name": "ipython",
    "version": 3
   },
   "file_extension": ".py",
   "mimetype": "text/x-python",
   "name": "python",
   "nbconvert_exporter": "python",
   "pygments_lexer": "ipython3",
   "version": "3.8.8"
  }
 },
 "nbformat": 4,
 "nbformat_minor": 5
}
