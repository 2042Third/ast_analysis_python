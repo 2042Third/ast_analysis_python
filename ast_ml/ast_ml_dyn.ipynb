{
 "cells": [
  {
   "cell_type": "code",
   "execution_count": 1,
   "id": "c7e5b4a0",
   "metadata": {},
   "outputs": [],
   "source": [
    "import numpy as np\n",
    "import pandas as pd\n",
    "from sklearn.metrics import classification_report, confusion_matrix\n",
    "from sklearn.model_selection import train_test_split\n",
    "from sklearn.naive_bayes import GaussianNB\n",
    "from sklearn.metrics import precision_score\n",
    "from sklearn.multioutput import MultiOutputClassifier\n",
    "# example of making a single class prediction\n",
    "from sklearn.linear_model import LogisticRegression\n",
    "from sklearn.neural_network import MLPClassifier"
   ]
  },
  {
   "cell_type": "code",
   "execution_count": 2,
   "id": "47012308",
   "metadata": {},
   "outputs": [],
   "source": [
    "#ast data\n",
    "ad = pd.read_csv('repo_python_relate.csv')"
   ]
  },
  {
   "cell_type": "markdown",
   "id": "a248f1cc",
   "metadata": {},
   "source": [
    "## Functional and Dynamic"
   ]
  },
  {
   "cell_type": "code",
   "execution_count": 3,
   "id": "5890a28e",
   "metadata": {},
   "outputs": [],
   "source": [
    "trainxor = ad[['Func']]\n",
    "trainyor = ad[['Relatedness']]\n",
    "X_train, X_test, y_train, y_test = train_test_split(\n",
    "    trainxor, trainyor, test_size=0.1, random_state=0)"
   ]
  },
  {
   "cell_type": "markdown",
   "id": "153458b6",
   "metadata": {},
   "source": [
    "### Bayesian"
   ]
  },
  {
   "cell_type": "code",
   "execution_count": 4,
   "id": "7bed62ee",
   "metadata": {},
   "outputs": [
    {
     "name": "stdout",
     "output_type": "stream",
     "text": [
      "[0.45304413 0.45307188 0.45332157 0.45359902 0.45443134 0.45526366\n",
      " 0.45581854]\n"
     ]
    }
   ],
   "source": [
    "from sklearn import linear_model\n",
    "\n",
    "reg = linear_model.BayesianRidge()\n",
    "dn, fc = 0, 3\n",
    "model = reg.fit(X_train, y_train.values.ravel())\n",
    "# xnew = [[0,1],[1,0],[0,10],[0,20],[0,50],[0,80],[0,100]]\n",
    "xnew = [[0],[1],[10],[20],[50],[80],[100]]\n",
    "y_pred = model.predict(xnew)\n",
    "print(y_pred)"
   ]
  },
  {
   "cell_type": "markdown",
   "id": "87366669",
   "metadata": {},
   "source": [
    "### Gaussian "
   ]
  },
  {
   "cell_type": "code",
   "execution_count": 5,
   "id": "a1246f91",
   "metadata": {},
   "outputs": [
    {
     "name": "stdout",
     "output_type": "stream",
     "text": [
      "              precision    recall  f1-score   support\n",
      "\n",
      "           0       0.58      1.00      0.74      2814\n",
      "           1       0.98      0.13      0.23      2318\n",
      "\n",
      "    accuracy                           0.61      5132\n",
      "   macro avg       0.78      0.56      0.48      5132\n",
      "weighted avg       0.76      0.61      0.51      5132\n",
      "\n",
      "[[2807    7]\n",
      " [2011  307]]\n",
      "Precision score: 0.9777070063694268\n",
      "X=[0], Predicted=[0.981, 0.019]\n",
      "X=[1], Predicted=[0.981, 0.019]\n",
      "X=[10], Predicted=[0.0, 1.0]\n",
      "X=[20], Predicted=[0.974, 0.026]\n",
      "X=[50], Predicted=[0.981, 0.019]\n",
      "X=[80], Predicted=[0.98, 0.02]\n",
      "X=[100], Predicted=[0.981, 0.019]\n"
     ]
    }
   ],
   "source": [
    "gnb = GaussianNB()\n",
    "dn, fc = 0, 3\n",
    "model = gnb.fit(X_train, y_train.values.ravel())\n",
    "y_pred = model.predict(X_test)\n",
    "print(classification_report(y_test,y_pred))\n",
    "print(confusion_matrix(y_test, y_pred))\n",
    "print(\"Precision score: {}\".format(precision_score(y_test,y_pred)))\n",
    "xnew = [[0,1],[1,0],[0,10],[0,20],[0,50],[0,80],[0,100]]\n",
    "xnew = [[0],[1],[10],[20],[50],[80],[100]]\n",
    "xprobs = model.predict_proba(X_test)\n",
    "for i in range(len(xnew)):\n",
    "\tprint(\"X=%s, Predicted=%s\" % (xnew[i], [round(xprobs[i][0],3),round(xprobs[i][1],3)]))"
   ]
  },
  {
   "cell_type": "markdown",
   "id": "2e8d421d",
   "metadata": {},
   "source": [
    "### Logistic Regression"
   ]
  },
  {
   "cell_type": "code",
   "execution_count": 6,
   "id": "6535c03d",
   "metadata": {
    "scrolled": true
   },
   "outputs": [
    {
     "name": "stdout",
     "output_type": "stream",
     "text": [
      "       Relatedness\n",
      "38194            1\n",
      "34050            1\n",
      "34452            0\n",
      "39645            1\n",
      "46518            1\n",
      "...            ...\n",
      "21243            1\n",
      "45891            0\n",
      "42613            1\n",
      "43567            0\n",
      "2732             0\n",
      "\n",
      "[46187 rows x 1 columns]\n",
      "              precision    recall  f1-score   support\n",
      "\n",
      "           0       0.66      0.95      0.78      2814\n",
      "           1       0.87      0.42      0.56      2318\n",
      "\n",
      "    accuracy                           0.71      5132\n",
      "   macro avg       0.77      0.68      0.67      5132\n",
      "weighted avg       0.76      0.71      0.68      5132\n",
      "\n",
      "[[2672  142]\n",
      " [1354  964]]\n",
      "Precision score: 0.8716094032549728\n",
      "X=[0], Predicted=[0.674, 0.326]\n",
      "X=[1], Predicted=[0.664, 0.336]\n",
      "X=[10], Predicted=[0.0, 1.0]\n",
      "X=[20], Predicted=[0.273, 0.727]\n",
      "X=[50], Predicted=[0.504, 0.496]\n",
      "X=[80], Predicted=[0.492, 0.508]\n",
      "X=[100], Predicted=[0.653, 0.347]\n"
     ]
    }
   ],
   "source": [
    "logreg = LogisticRegression()\n",
    "dn, fc = 0, 3\n",
    "print(y_train)\n",
    "model = logreg.fit(X_train, y_train.values.ravel())\n",
    "y_pred = model.predict(X_test)\n",
    "print(classification_report(y_test,y_pred))\n",
    "print(confusion_matrix(y_test, y_pred))\n",
    "print(\"Precision score: {}\".format(precision_score(y_test,y_pred)))\n",
    "xnew = [[0,1],[1,0],[0,10],[0,20],[0,50],[0,80],[0,100]]\n",
    "xnew = [[0],[1],[10],[20],[50],[80],[100]]\n",
    "xprobs = model.predict_proba(X_test)\n",
    "for i in range(len(xnew)):\n",
    "\tprint(\"X=%s, Predicted=%s\" % (xnew[i], [round(xprobs[i][0],3),round(xprobs[i][1],3)]))\n",
    "    \n",
    "    \n",
    "trainxor = ad[['Func']]\n",
    "trainyor = ad[['Relatedness']]\n",
    "X_train, X_test, y_train, y_test = train_test_split(\n",
    "    trainxor, trainyor, test_size=0.1, random_state=0)"
   ]
  },
  {
   "cell_type": "markdown",
   "id": "09cba6c4",
   "metadata": {},
   "source": [
    "### Neural Network"
   ]
  },
  {
   "cell_type": "code",
   "execution_count": 7,
   "id": "9b39ba48",
   "metadata": {},
   "outputs": [
    {
     "name": "stdout",
     "output_type": "stream",
     "text": [
      "              precision    recall  f1-score   support\n",
      "\n",
      "           0       0.72      0.81      0.77      2814\n",
      "           1       0.73      0.62      0.67      2318\n",
      "\n",
      "    accuracy                           0.73      5132\n",
      "   macro avg       0.73      0.72      0.72      5132\n",
      "weighted avg       0.73      0.73      0.72      5132\n",
      "\n",
      "[[2293  521]\n",
      " [ 884 1434]]\n",
      "Precision score: 0.7335038363171356\n",
      "X=[0], Predicted=[0.889, 0.111]\n",
      "X=[1], Predicted=[0.744, 0.256]\n",
      "X=[10], Predicted=[0.01, 0.99]\n",
      "X=[20], Predicted=[0.172, 0.828]\n",
      "X=[50], Predicted=[0.304, 0.696]\n",
      "X=[80], Predicted=[0.285, 0.715]\n",
      "X=[100], Predicted=[0.656, 0.344]\n"
     ]
    }
   ],
   "source": [
    "mlpc=MLPClassifier(hidden_layer_sizes=(12,12,12),max_iter=500)\n",
    "model = mlpc.fit(X_train, y_train.values.ravel())\n",
    "y_pred = model.predict(X_test)\n",
    "print(classification_report(y_test,y_pred))\n",
    "print(confusion_matrix(y_test, y_pred))\n",
    "print(\"Precision score: {}\".format(precision_score(y_test,y_pred)))\n",
    "xnew = [[0,1],[1,0],[0,10],[0,20],[0,50],[0,80],[0,100]]\n",
    "xnew = [[0],[1],[10],[20],[50],[80],[100]]\n",
    "xprobs = model.predict_proba(X_test)\n",
    "for i in range(len(xnew)):\n",
    "\tprint(\"X=%s, Predicted=%s\" % (xnew[i], [round(xprobs[i][0],3),round(xprobs[i][1],3)]))"
   ]
  },
  {
   "cell_type": "code",
   "execution_count": null,
   "id": "fb93d086",
   "metadata": {},
   "outputs": [],
   "source": []
  },
  {
   "cell_type": "code",
   "execution_count": null,
   "id": "3fffc6a2",
   "metadata": {},
   "outputs": [],
   "source": []
  }
 ],
 "metadata": {
  "kernelspec": {
   "display_name": "Python 3",
   "language": "python",
   "name": "python3"
  },
  "language_info": {
   "codemirror_mode": {
    "name": "ipython",
    "version": 3
   },
   "file_extension": ".py",
   "mimetype": "text/x-python",
   "name": "python",
   "nbconvert_exporter": "python",
   "pygments_lexer": "ipython3",
   "version": "3.8.8"
  }
 },
 "nbformat": 4,
 "nbformat_minor": 5
}
