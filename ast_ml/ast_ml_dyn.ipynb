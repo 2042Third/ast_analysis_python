{
 "cells": [
  {
   "cell_type": "code",
   "execution_count": 1,
   "id": "c7e5b4a0",
   "metadata": {},
   "outputs": [],
   "source": [
    "import numpy as np\n",
    "import pandas as pd\n",
    "from sklearn.metrics import classification_report, confusion_matrix\n",
    "from sklearn.model_selection import train_test_split\n",
    "from sklearn.naive_bayes import GaussianNB\n",
    "from sklearn.metrics import precision_score\n",
    "from sklearn.multioutput import MultiOutputClassifier\n",
    "# example of making a single class prediction\n",
    "from sklearn.linear_model import LogisticRegression\n",
    "from sklearn.neural_network import MLPClassifier"
   ]
  },
  {
   "cell_type": "code",
   "execution_count": 2,
   "id": "47012308",
   "metadata": {},
   "outputs": [],
   "source": [
    "#ast data\n",
    "ad = pd.read_csv('new_repo_python_relate.csv')"
   ]
  },
  {
   "cell_type": "markdown",
   "id": "a248f1cc",
   "metadata": {},
   "source": [
    "## Functional and Dynamic"
   ]
  },
  {
   "cell_type": "code",
   "execution_count": 3,
   "id": "5890a28e",
   "metadata": {},
   "outputs": [],
   "source": [
    "trainxor = ad[['FuncCount']]\n",
    "trainyor = ad[['Relatedness']]\n",
    "X_train, X_test, y_train, y_test = train_test_split(\n",
    "    trainxor, trainyor, test_size=0.1, random_state=0)"
   ]
  },
  {
   "cell_type": "markdown",
   "id": "153458b6",
   "metadata": {},
   "source": [
    "### Bayesian"
   ]
  },
  {
   "cell_type": "code",
   "execution_count": 4,
   "id": "7bed62ee",
   "metadata": {},
   "outputs": [
    {
     "name": "stdout",
     "output_type": "stream",
     "text": [
      "[0.61849025 0.61863427 0.61993044 0.62137063 0.62569121 0.63001178\n",
      " 0.63289216]\n"
     ]
    }
   ],
   "source": [
    "from sklearn import linear_model\n",
    "\n",
    "reg = linear_model.BayesianRidge()\n",
    "dn, fc = 0, 3\n",
    "model = reg.fit(X_train, y_train.values.ravel())\n",
    "# xnew = [[0,1],[1,0],[0,10],[0,20],[0,50],[0,80],[0,100]]\n",
    "xnew = [[0],[1],[10],[20],[50],[80],[100]]\n",
    "y_pred = model.predict(xnew)\n",
    "print(y_pred)"
   ]
  },
  {
   "cell_type": "markdown",
   "id": "87366669",
   "metadata": {},
   "source": [
    "### Gaussian "
   ]
  },
  {
   "cell_type": "code",
   "execution_count": 5,
   "id": "a1246f91",
   "metadata": {},
   "outputs": [
    {
     "name": "stdout",
     "output_type": "stream",
     "text": [
      "              precision    recall  f1-score   support\n",
      "\n",
      "           0       0.44      0.98      0.61      1061\n",
      "           1       0.97      0.32      0.48      1958\n",
      "\n",
      "    accuracy                           0.55      3019\n",
      "   macro avg       0.71      0.65      0.54      3019\n",
      "weighted avg       0.79      0.55      0.52      3019\n",
      "\n",
      "[[1044   17]\n",
      " [1334  624]]\n",
      "Precision score: 0.9734789391575663\n",
      "X=[0], Predicted=[0.952, 0.048]\n",
      "X=[1], Predicted=[0.0, 1.0]\n",
      "X=[10], Predicted=[0.953, 0.047]\n",
      "X=[20], Predicted=[0.011, 0.989]\n",
      "X=[50], Predicted=[0.952, 0.048]\n",
      "X=[80], Predicted=[0.951, 0.049]\n",
      "X=[100], Predicted=[0.951, 0.049]\n"
     ]
    }
   ],
   "source": [
    "gnb = GaussianNB()\n",
    "dn, fc = 0, 3\n",
    "model = gnb.fit(X_train, y_train.values.ravel())\n",
    "y_pred = model.predict(X_test)\n",
    "print(classification_report(y_test,y_pred))\n",
    "print(confusion_matrix(y_test, y_pred))\n",
    "print(\"Precision score: {}\".format(precision_score(y_test,y_pred)))\n",
    "xnew = [[0,1],[1,0],[0,10],[0,20],[0,50],[0,80],[0,100]]\n",
    "xnew = [[0],[1],[10],[20],[50],[80],[100]]\n",
    "xprobs = model.predict_proba(X_test)\n",
    "for i in range(len(xnew)):\n",
    "\tprint(\"X=%s, Predicted=%s\" % (xnew[i], [round(xprobs[i][0],3),round(xprobs[i][1],3)]))"
   ]
  },
  {
   "cell_type": "markdown",
   "id": "2e8d421d",
   "metadata": {},
   "source": [
    "### Logistic Regression"
   ]
  },
  {
   "cell_type": "code",
   "execution_count": 6,
   "id": "6535c03d",
   "metadata": {
    "scrolled": true
   },
   "outputs": [
    {
     "name": "stdout",
     "output_type": "stream",
     "text": [
      "       Relatedness\n",
      "7731             1\n",
      "16835            1\n",
      "1624             0\n",
      "12217            1\n",
      "6926             1\n",
      "...            ...\n",
      "13123            1\n",
      "19648            0\n",
      "9845             1\n",
      "10799            1\n",
      "2732             0\n",
      "\n",
      "[27163 rows x 1 columns]\n",
      "              precision    recall  f1-score   support\n",
      "\n",
      "           0       0.62      0.77      0.69      1061\n",
      "           1       0.86      0.75      0.80      1958\n",
      "\n",
      "    accuracy                           0.76      3019\n",
      "   macro avg       0.74      0.76      0.74      3019\n",
      "weighted avg       0.78      0.76      0.76      3019\n",
      "\n",
      "[[ 822  239]\n",
      " [ 498 1460]]\n",
      "Precision score: 0.859329017068864\n",
      "X=[0], Predicted=[0.574, 0.426]\n",
      "X=[1], Predicted=[0.003, 0.997]\n",
      "X=[10], Predicted=[0.453, 0.547]\n",
      "X=[20], Predicted=[0.01, 0.99]\n",
      "X=[50], Predicted=[0.574, 0.426]\n",
      "X=[80], Predicted=[0.589, 0.411]\n",
      "X=[100], Predicted=[0.589, 0.411]\n"
     ]
    }
   ],
   "source": [
    "logreg = LogisticRegression()\n",
    "dn, fc = 0, 3\n",
    "print(y_train)\n",
    "model = logreg.fit(X_train, y_train.values.ravel())\n",
    "y_pred = model.predict(X_test)\n",
    "print(classification_report(y_test,y_pred))\n",
    "print(confusion_matrix(y_test, y_pred))\n",
    "print(\"Precision score: {}\".format(precision_score(y_test,y_pred)))\n",
    "xnew = [[0,1],[1,0],[0,10],[0,20],[0,50],[0,80],[0,100]]\n",
    "xnew = [[0],[1],[10],[20],[50],[80],[100]]\n",
    "xprobs = model.predict_proba(X_test)\n",
    "for i in range(len(xnew)):\n",
    "\tprint(\"X=%s, Predicted=%s\" % (xnew[i], [round(xprobs[i][0],3),round(xprobs[i][1],3)]))\n",
    "    \n",
    "    \n",
    "trainxor = ad[['FuncCount']]\n",
    "trainyor = ad[['Relatedness']]\n",
    "X_train, X_test, y_train, y_test = train_test_split(\n",
    "    trainxor, trainyor, test_size=0.1, random_state=0)"
   ]
  },
  {
   "cell_type": "markdown",
   "id": "09cba6c4",
   "metadata": {},
   "source": [
    "### Neural Network"
   ]
  },
  {
   "cell_type": "code",
   "execution_count": 7,
   "id": "9b39ba48",
   "metadata": {},
   "outputs": [
    {
     "name": "stdout",
     "output_type": "stream",
     "text": [
      "              precision    recall  f1-score   support\n",
      "\n",
      "           0       0.65      0.65      0.65      1061\n",
      "           1       0.81      0.81      0.81      1958\n",
      "\n",
      "    accuracy                           0.76      3019\n",
      "   macro avg       0.73      0.73      0.73      3019\n",
      "weighted avg       0.75      0.76      0.76      3019\n",
      "\n",
      "[[ 688  373]\n",
      " [ 366 1592]]\n",
      "Precision score: 0.8101781170483461\n",
      "X=[0], Predicted=[0.708, 0.292]\n",
      "X=[1], Predicted=[0.028, 0.972]\n",
      "X=[10], Predicted=[0.317, 0.683]\n",
      "X=[20], Predicted=[0.033, 0.967]\n",
      "X=[50], Predicted=[0.708, 0.292]\n",
      "X=[80], Predicted=[0.844, 0.156]\n",
      "X=[100], Predicted=[0.844, 0.156]\n"
     ]
    }
   ],
   "source": [
    "mlpc=MLPClassifier(hidden_layer_sizes=(12,12,12),max_iter=500)\n",
    "model = mlpc.fit(X_train, y_train.values.ravel())\n",
    "y_pred = model.predict(X_test)\n",
    "print(classification_report(y_test,y_pred))\n",
    "print(confusion_matrix(y_test, y_pred))\n",
    "print(\"Precision score: {}\".format(precision_score(y_test,y_pred)))\n",
    "xnew = [[0,1],[1,0],[0,10],[0,20],[0,50],[0,80],[0,100]]\n",
    "xnew = [[0],[1],[10],[20],[50],[80],[100]]\n",
    "xprobs = model.predict_proba(X_test)\n",
    "for i in range(len(xnew)):\n",
    "\tprint(\"X=%s, Predicted=%s\" % (xnew[i], [round(xprobs[i][0],3),round(xprobs[i][1],3)]))"
   ]
  },
  {
   "cell_type": "code",
   "execution_count": null,
   "id": "fb93d086",
   "metadata": {},
   "outputs": [],
   "source": []
  },
  {
   "cell_type": "code",
   "execution_count": null,
   "id": "3fffc6a2",
   "metadata": {},
   "outputs": [],
   "source": []
  }
 ],
 "metadata": {
  "kernelspec": {
   "display_name": "Python 3",
   "language": "python",
   "name": "python3"
  },
  "language_info": {
   "codemirror_mode": {
    "name": "ipython",
    "version": 3
   },
   "file_extension": ".py",
   "mimetype": "text/x-python",
   "name": "python",
   "nbconvert_exporter": "python",
   "pygments_lexer": "ipython3",
   "version": "3.8.8"
  }
 },
 "nbformat": 4,
 "nbformat_minor": 5
}
