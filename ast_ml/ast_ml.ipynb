{
 "cells": [
  {
   "cell_type": "code",
   "execution_count": 1,
   "id": "2d0076c7",
   "metadata": {},
   "outputs": [],
   "source": [
    "import numpy as np\n",
    "import pandas as pd\n",
    "from sklearn.metrics import classification_report, confusion_matrix\n",
    "from sklearn.model_selection import train_test_split\n",
    "from sklearn.naive_bayes import GaussianNB\n",
    "from sklearn.metrics import precision_score\n",
    "from sklearn.multioutput import MultiOutputClassifier\n",
    "# example of making a single class prediction\n",
    "from sklearn.linear_model import LogisticRegression"
   ]
  },
  {
   "cell_type": "code",
   "execution_count": 2,
   "id": "5d68f5ff",
   "metadata": {},
   "outputs": [],
   "source": [
    "#ast data\n",
    "ad = pd.read_csv('new.csv')"
   ]
  },
  {
   "cell_type": "code",
   "execution_count": 3,
   "id": "418e9a76",
   "metadata": {},
   "outputs": [],
   "source": [
    "trainxor = ad[['Dec', \"Func\"]]\n",
    "trainyor = ad[['Relatedness']]\n",
    "# trainx = ad[['Dyn']]\n",
    "# trainy = ad[[ \"Func\", 'DynFunc']]"
   ]
  },
  {
   "cell_type": "code",
   "execution_count": 4,
   "id": "71f5ddcb",
   "metadata": {},
   "outputs": [],
   "source": [
    "X_train, X_test, y_train, y_test = train_test_split(\n",
    "    trainxor, trainyor, test_size=0.1, random_state=0)"
   ]
  },
  {
   "cell_type": "code",
   "execution_count": 22,
   "id": "c2bced5e",
   "metadata": {},
   "outputs": [
    {
     "name": "stdout",
     "output_type": "stream",
     "text": [
      "              precision    recall  f1-score   support\n",
      "\n",
      "           0       0.75      0.99      0.85       978\n",
      "           1       1.00      0.83      0.91      1980\n",
      "\n",
      "    accuracy                           0.89      2958\n",
      "   macro avg       0.87      0.91      0.88      2958\n",
      "weighted avg       0.91      0.89      0.89      2958\n",
      "\n",
      "[[ 972    6]\n",
      " [ 332 1648]]\n",
      "Precision score: 0.9963724304715841\n",
      "X=[0, 1], Predicted=[0.0, 1.0]\n",
      "X=[1, 0], Predicted=[1.0, 0.0]\n",
      "X=[0, 10], Predicted=[1.0, 0.0]\n",
      "X=[0, 20], Predicted=[1.0, 0.0]\n",
      "X=[0, 50], Predicted=[0.0, 1.0]\n",
      "X=[0, 80], Predicted=[0.0, 1.0]\n",
      "X=[0, 100], Predicted=[0.0, 1.0]\n"
     ]
    }
   ],
   "source": [
    "\n",
    "gnb = GaussianNB()\n",
    "dn, fc = 0, 3\n",
    "model = gnb.fit(X_train, y_train.values.ravel())\n",
    "y_pred = model.predict(X_test)\n",
    "print(classification_report(y_test,y_pred))\n",
    "print(confusion_matrix(y_test, y_pred))\n",
    "print(\"Precision score: {}\".format(precision_score(y_test,y_pred)))\n",
    "xnew = [[0,1],[1,0],[0,10],[0,20],[0,50],[0,80],[0,100]]\n",
    "xprobs = model.predict_proba(X_test)\n",
    "for i in range(len(xnew)):\n",
    "\tprint(\"X=%s, Predicted=%s\" % (xnew[i], [round(xprobs[i][0],3),round(xprobs[i][1],3)]))\n",
    "# while True:\n",
    "#   dn, fc = [int(x) for x in input(\"Next prediction\\n\").split(',')]\n",
    "#   y_pred = model.predict([[dn, fc]])\n",
    "#   print(\"Predict [%d, %d] %d\" % (dn, fc, y_pred))"
   ]
  },
  {
   "cell_type": "code",
   "execution_count": 23,
   "id": "14d7c05c",
   "metadata": {},
   "outputs": [
    {
     "name": "stdout",
     "output_type": "stream",
     "text": [
      "              precision    recall  f1-score   support\n",
      "\n",
      "           0       0.75      0.99      0.85       978\n",
      "           1       0.99      0.84      0.91      1980\n",
      "\n",
      "    accuracy                           0.89      2958\n",
      "   macro avg       0.87      0.91      0.88      2958\n",
      "weighted avg       0.91      0.89      0.89      2958\n",
      "\n",
      "[[ 968   10]\n",
      " [ 320 1660]]\n",
      "Precision score: 0.9940119760479041\n",
      "X=[0, 1], Predicted=[0.0, 1.0]\n",
      "X=[1, 0], Predicted=[0.746, 0.254]\n",
      "X=[0, 10], Predicted=[0.766, 0.234]\n",
      "X=[0, 20], Predicted=[0.754, 0.246]\n",
      "X=[0, 50], Predicted=[0.0, 1.0]\n",
      "X=[0, 80], Predicted=[0.0, 1.0]\n",
      "X=[0, 100], Predicted=[0.0, 1.0]\n"
     ]
    }
   ],
   "source": [
    "logreg = LogisticRegression()\n",
    "dn, fc = 0, 3\n",
    "model = logreg.fit(X_train, y_train.values.ravel())\n",
    "y_pred = model.predict(X_test)\n",
    "print(classification_report(y_test,y_pred))\n",
    "print(confusion_matrix(y_test, y_pred))\n",
    "print(\"Precision score: {}\".format(precision_score(y_test,y_pred)))\n",
    "xnew = [[0,1],[1,0],[0,10],[0,20],[0,50],[0,80],[0,100]]\n",
    "xprobs = model.predict_proba(X_test)\n",
    "for i in range(len(xnew)):\n",
    "\tprint(\"X=%s, Predicted=%s\" % (xnew[i], [round(xprobs[i][0],3),round(xprobs[i][1],3)]))"
   ]
  },
  {
   "cell_type": "code",
   "execution_count": 29,
   "id": "5fbc6090",
   "metadata": {},
   "outputs": [
    {
     "name": "stdout",
     "output_type": "stream",
     "text": [
      "[0.65208472 0.65187702 0.65538378 0.6590494  0.67004626 0.68104313\n",
      " 0.68837437]\n"
     ]
    }
   ],
   "source": [
    "from sklearn import linear_model\n",
    "\n",
    "reg = linear_model.BayesianRidge()\n",
    "dn, fc = 0, 3\n",
    "model = reg.fit(X_train, y_train.values.ravel())\n",
    "xnew = [[0,1],[1,0],[0,10],[0,20],[0,50],[0,80],[0,100]]\n",
    "y_pred = model.predict(xnew)\n",
    "print(y_pred)\n",
    "# print(classification_report(y_test,y_pred))\n",
    "# print(confusion_matrix(y_test, y_pred))\n",
    "# print(\"Precision score: {}\".format(precision_score(y_test,y_pred)))\n",
    "# xprobs = model.predict_proba(X_test)\n",
    "# for i in range(len(xnew)):\n",
    "# \tprint(\"X=%s, Predicted=%s\" % (xnew[i], [round(xprobs[i][0],3),round(xprobs[i][1],3)]))"
   ]
  },
  {
   "cell_type": "code",
   "execution_count": null,
   "id": "205c509f",
   "metadata": {},
   "outputs": [],
   "source": []
  }
 ],
 "metadata": {
  "kernelspec": {
   "display_name": "Python 3",
   "language": "python",
   "name": "python3"
  },
  "language_info": {
   "codemirror_mode": {
    "name": "ipython",
    "version": 3
   },
   "file_extension": ".py",
   "mimetype": "text/x-python",
   "name": "python",
   "nbconvert_exporter": "python",
   "pygments_lexer": "ipython3",
   "version": "3.8.8"
  }
 },
 "nbformat": 4,
 "nbformat_minor": 5
}
